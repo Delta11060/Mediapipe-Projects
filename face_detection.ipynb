{
 "cells": [
  {
   "cell_type": "code",
   "execution_count": 1,
   "metadata": {},
   "outputs": [],
   "source": [
    "import mediapipe as mp\n",
    "import cv2"
   ]
  },
  {
   "cell_type": "code",
   "execution_count": 2,
   "metadata": {},
   "outputs": [],
   "source": [
    "mp_face_detection=mp.solutions.face_detection\n",
    "mp_drawing=mp.solutions.drawing_utils\n"
   ]
  },
  {
   "cell_type": "code",
   "execution_count": 3,
   "metadata": {},
   "outputs": [],
   "source": [
    "face_detection=mp_face_detection.FaceDetection()"
   ]
  },
  {
   "cell_type": "code",
   "execution_count": 13,
   "metadata": {},
   "outputs": [
    {
     "ename": "AttributeError",
     "evalue": "type object 'SolutionOutputs' has no attribute 'multi_face_landmarks'",
     "output_type": "error",
     "traceback": [
      "\u001b[1;31m---------------------------------------------------------------------------\u001b[0m",
      "\u001b[1;31mAttributeError\u001b[0m                            Traceback (most recent call last)",
      "Cell \u001b[1;32mIn[13], line 10\u001b[0m\n\u001b[0;32m      8\u001b[0m \u001b[39m# print(results)\u001b[39;00m\n\u001b[0;32m      9\u001b[0m image\u001b[39m=\u001b[39mcv2\u001b[39m.\u001b[39mcvtColor(image,cv2\u001b[39m.\u001b[39mCOLOR_RGB2BGR)\n\u001b[1;32m---> 10\u001b[0m \u001b[39mif\u001b[39;00m results\u001b[39m.\u001b[39;49mmulti_face_landmarks:\n\u001b[0;32m     11\u001b[0m     \u001b[39mfor\u001b[39;00m face_landmarks \u001b[39min\u001b[39;00m results\u001b[39m.\u001b[39mmulti_face_landmarks:\n\u001b[0;32m     12\u001b[0m         mp_drawing\u001b[39m.\u001b[39mdraw_landmarks(image,face_landmarks,mp_face_detection\u001b[39m.\u001b[39mFACE_CONNECTIONS)\n",
      "\u001b[1;31mAttributeError\u001b[0m: type object 'SolutionOutputs' has no attribute 'multi_face_landmarks'"
     ]
    }
   ],
   "source": [
    "#results.detection\n",
    "video=cv2.VideoCapture(0)\n",
    "while True:\n",
    "    suc,image=video.read()\n",
    "    image=cv2.flip(image,1)\n",
    "    image=cv2.cvtColor(image,cv2.COLOR_BGR2RGB)\n",
    "    results=face_detection.process(image)\n",
    "    # print(results)\n",
    "    image=cv2.cvtColor(image,cv2.COLOR_RGB2BGR)\n",
    "    if results.multi_face_landmarks:\n",
    "        for face_landmarks in results.multi_face_landmarks:\n",
    "            mp_drawing.draw_landmarks(image,face_landmarks,mp_face_detection.FACE_CONNECTIONS)\n",
    "\n",
    "    cv2.imshow('Face',image)\n",
    "    if cv2.waitKey(1) & 0XFF==ord('q'):\n",
    "        break\n",
    "video.release()\n",
    "cv2.destroyAllWindows()"
   ]
  }
 ],
 "metadata": {
  "kernelspec": {
   "display_name": "Python 3",
   "language": "python",
   "name": "python3"
  },
  "language_info": {
   "codemirror_mode": {
    "name": "ipython",
    "version": 3
   },
   "file_extension": ".py",
   "mimetype": "text/x-python",
   "name": "python",
   "nbconvert_exporter": "python",
   "pygments_lexer": "ipython3",
   "version": "3.11.1"
  },
  "orig_nbformat": 4
 },
 "nbformat": 4,
 "nbformat_minor": 2
}
