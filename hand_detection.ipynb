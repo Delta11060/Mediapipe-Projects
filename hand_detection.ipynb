{
 "cells": [
  {
   "cell_type": "code",
   "execution_count": 1,
   "metadata": {},
   "outputs": [],
   "source": [
    "import mediapipe as mp\n",
    "import cv2"
   ]
  },
  {
   "cell_type": "code",
   "execution_count": 2,
   "metadata": {},
   "outputs": [],
   "source": [
    "mphands=mp.solutions.hands\n",
    "mp_drawing=mp.solutions.drawing_utils"
   ]
  },
  {
   "cell_type": "code",
   "execution_count": 3,
   "metadata": {},
   "outputs": [],
   "source": [
    "Hands=mphands.Hands()"
   ]
  },
  {
   "cell_type": "code",
   "execution_count": 4,
   "metadata": {},
   "outputs": [],
   "source": [
    "video=cv2.VideoCapture(0)\n",
    "while True:\n",
    "    suc,image=video.read()\n",
    "    image=cv2.flip(image,1)\n",
    "    image=cv2.cvtColor(image,cv2.COLOR_BGR2RGB)\n",
    "    results=Hands.process(image)\n",
    "    # print(results)\n",
    "    image=cv2.cvtColor(image,cv2.COLOR_RGB2BGR)\n",
    "    #results.multi_hand_landmarks\n",
    "    if results.multi_hand_landmarks:\n",
    "        for hand_landmarks in results.multi_hand_landmarks:\n",
    "            mp_drawing.draw_landmarks(image,hand_landmarks,mphands.HAND_CONNECTIONS)\n",
    "\n",
    "\n",
    "    cv2.imshow('Hand',image)\n",
    "    if cv2.waitKey(1) & 0XFF==ord('q'):\n",
    "        break\n",
    "video.release()\n",
    "cv2.destroyAllWindows()"
   ]
  },
  {
   "cell_type": "code",
   "execution_count": 5,
   "metadata": {},
   "outputs": [
    {
     "data": {
      "text/plain": [
       "landmark {\n",
       "  x: 0.3231217\n",
       "  y: 0.845185\n",
       "  z: 3.921832e-07\n",
       "}\n",
       "landmark {\n",
       "  x: 0.308123\n",
       "  y: 0.75218475\n",
       "  z: -0.0026688804\n",
       "}\n",
       "landmark {\n",
       "  x: 0.30972594\n",
       "  y: 0.6703986\n",
       "  z: -0.014511278\n",
       "}\n",
       "landmark {\n",
       "  x: 0.32041985\n",
       "  y: 0.60898554\n",
       "  z: -0.026762433\n",
       "}\n",
       "landmark {\n",
       "  x: 0.33129674\n",
       "  y: 0.56386834\n",
       "  z: -0.03959444\n",
       "}\n",
       "landmark {\n",
       "  x: 0.3735562\n",
       "  y: 0.62871635\n",
       "  z: -0.034449928\n",
       "}\n",
       "landmark {\n",
       "  x: 0.41070777\n",
       "  y: 0.5292541\n",
       "  z: -0.057598382\n",
       "}\n",
       "landmark {\n",
       "  x: 0.43897015\n",
       "  y: 0.47474867\n",
       "  z: -0.071178414\n",
       "}\n",
       "landmark {\n",
       "  x: 0.46244335\n",
       "  y: 0.43448544\n",
       "  z: -0.07792014\n",
       "}\n",
       "landmark {\n",
       "  x: 0.40670872\n",
       "  y: 0.66195464\n",
       "  z: -0.044851582\n",
       "}\n",
       "landmark {\n",
       "  x: 0.47144502\n",
       "  y: 0.5800891\n",
       "  z: -0.062121473\n",
       "}\n",
       "landmark {\n",
       "  x: 0.51069057\n",
       "  y: 0.5337135\n",
       "  z: -0.06817259\n",
       "}\n",
       "landmark {\n",
       "  x: 0.53732926\n",
       "  y: 0.5037021\n",
       "  z: -0.0709677\n",
       "}\n",
       "landmark {\n",
       "  x: 0.43060657\n",
       "  y: 0.70709795\n",
       "  z: -0.0547342\n",
       "}\n",
       "landmark {\n",
       "  x: 0.4987594\n",
       "  y: 0.6462707\n",
       "  z: -0.06915561\n",
       "}\n",
       "landmark {\n",
       "  x: 0.5296844\n",
       "  y: 0.604282\n",
       "  z: -0.07132022\n",
       "}\n",
       "landmark {\n",
       "  x: 0.54369926\n",
       "  y: 0.5727353\n",
       "  z: -0.07082894\n",
       "}\n",
       "landmark {\n",
       "  x: 0.44756305\n",
       "  y: 0.7573569\n",
       "  z: -0.06442218\n",
       "}\n",
       "landmark {\n",
       "  x: 0.5062759\n",
       "  y: 0.7123096\n",
       "  z: -0.074641265\n",
       "}\n",
       "landmark {\n",
       "  x: 0.53017443\n",
       "  y: 0.677082\n",
       "  z: -0.07244102\n",
       "}\n",
       "landmark {\n",
       "  x: 0.5414009\n",
       "  y: 0.64490294\n",
       "  z: -0.068033606\n",
       "}"
      ]
     },
     "execution_count": 5,
     "metadata": {},
     "output_type": "execute_result"
    }
   ],
   "source": [
    "hand_landmarks"
   ]
  }
 ],
 "metadata": {
  "kernelspec": {
   "display_name": "Python 3",
   "language": "python",
   "name": "python3"
  },
  "language_info": {
   "codemirror_mode": {
    "name": "ipython",
    "version": 3
   },
   "file_extension": ".py",
   "mimetype": "text/x-python",
   "name": "python",
   "nbconvert_exporter": "python",
   "pygments_lexer": "ipython3",
   "version": "3.11.1"
  },
  "orig_nbformat": 4
 },
 "nbformat": 4,
 "nbformat_minor": 2
}
